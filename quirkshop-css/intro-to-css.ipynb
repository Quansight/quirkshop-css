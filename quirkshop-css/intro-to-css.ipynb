{
 "cells": [
  {
   "cell_type": "markdown",
   "metadata": {},
   "source": [
    "* [css selectors](#CSS-Selectors)\n",
    "* css animations\n",
    "* inspecting the dom\n",
    "* css variables"
   ]
  },
  {
   "cell_type": "markdown",
   "metadata": {},
   "source": [
    "## CSS Selectors\n",
    "\n",
    "> We'll only talk about `id`s and `class`es, there are other queries in css."
   ]
  },
  {
   "cell_type": "markdown",
   "metadata": {},
   "source": [
    "## CSS Animations"
   ]
  },
  {
   "cell_type": "markdown",
   "metadata": {},
   "source": [
    "## Inspecting the DOM\n",
    "\n",
    "<img src=\"data/inspector-icon-ff.png\"/>\n",
    "\n",
    "> What are the `class`es associated with a Jupyter Code Cell?\n",
    "\n",
    ">> Use the inspector to discover the classes of the code cells.\n",
    "\n",
    "### In Notebook Classic\n",
    "\n",
    "<details><summary>reveal the answers</summary>\n",
    "    <code><pre>.cell.code_cell.unrendered.selected</pre></code>\n",
    "    <img src=\"data/classic-inspect.png\"/>\n",
    "</details>\n",
    "\n",
    "### In JupyterLab\n",
    "\n",
    "<details><summary>reveal the answers</summary>\n",
    "    <code><pre>.lm-Widget.p-Widget.jp-Cell.jp-MarkdownCell.jp-Notebook-cell.jp-mod-rendered.jp-mod-active.jp-mod-selected</pre></code>\n",
    "    <img src=\"data/lab-inspect.png\"/>\n",
    "</details>\n",
    "\n",
    "### In nteract-on-jupyter\n",
    "\n",
    "<details><summary>reveal the answers</summary>\n",
    "    <code><pre>.cell-container</pre></code>\n",
    "    <img src=\"data/nteract-inspect.png\"/>\n",
    "    \n",
    "> in nteract you don't know if it is a code cell.\n",
    "</details>"
   ]
  },
  {
   "cell_type": "markdown",
   "metadata": {},
   "source": [
    "## CSS Variables"
   ]
  },
  {
   "cell_type": "code",
   "execution_count": null,
   "metadata": {},
   "outputs": [],
   "source": []
  }
 ],
 "metadata": {
  "kernelspec": {
   "display_name": "Python 3",
   "language": "python",
   "name": "python3"
  },
  "language_info": {
   "codemirror_mode": {
    "name": "ipython",
    "version": 3
   },
   "file_extension": ".py",
   "mimetype": "text/x-python",
   "name": "python",
   "nbconvert_exporter": "python",
   "pygments_lexer": "ipython3",
   "version": "3.7.7"
  }
 },
 "nbformat": 4,
 "nbformat_minor": 4
}
