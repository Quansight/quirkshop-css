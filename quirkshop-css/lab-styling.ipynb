{
 "cells": [
  {
   "cell_type": "markdown",
   "metadata": {},
   "source": [
    "# [JupyterLab CSS](https://jupyterlab.readthedocs.io/en/stable/developer/css.html)\n",
    "\n",
    "How does material design fit in?"
   ]
  },
  {
   "cell_type": "markdown",
   "metadata": {},
   "source": [
    "## Theming\n",
    "\n",
    "JupyterLab provides a canonical theming system.\n",
    "\n",
    "\n",
    "* [Light theme](https://githb.com/jupyterlab/jupyterlab/blob/master/packages/theme-light-extension/style/variables.css)\n",
    "* [Dark theme](https://github.com/jupyterlab/jupyterlab/blob/master/packages/theme-dark-extension/style/variables.css)\n"
   ]
  },
  {
   "cell_type": "markdown",
   "metadata": {},
   "source": [
    "![](data/themes-menu.png)"
   ]
  },
  {
   "cell_type": "markdown",
   "metadata": {},
   "source": [
    "## [Qtheme](https://github.com/Quansight/qurated-theme)\n",
    "\n",
    "There is stale repo with a lab extension where we started working on an organizational theme. It is called QTheme."
   ]
  },
  {
   "cell_type": "markdown",
   "metadata": {},
   "source": [
    "## JupyterLab fonts config"
   ]
  },
  {
   "cell_type": "markdown",
   "metadata": {},
   "source": [
    "![](data/fonts-menu.png)"
   ]
  },
  {
   "cell_type": "markdown",
   "metadata": {},
   "source": [
    "[An example of an organization style configured with Jupyter Labs fonts and our old friend __CSS__ variables](https://gist.github.com/bollwyvl/8213489b5cacbcf20031c5351f08d7cb)"
   ]
  },
  {
   "cell_type": "markdown",
   "metadata": {},
   "source": [
    "## informal styling"
   ]
  },
  {
   "cell_type": "markdown",
   "metadata": {},
   "source": [
    "[`__style__.ipynb`](style.ipynb) is a custom hack for presentation mode.\n",
    "\n",
    "It uses standardized __CSS__ selectors to reduce the application noise.\n",
    "\n",
    "### jupyter has different levels of interaction\n",
    "\n",
    "1. Single document mode\n",
    "2. Presentation mode\n",
    "3. Cell mode\n",
    "4. Editting mode\n"
   ]
  },
  {
   "cell_type": "markdown",
   "metadata": {},
   "source": [
    "    %%html\n",
    "    as markdown there is no style...\n",
    "    <style>\n",
    "    .jp-Cell{\n",
    "        background-color: red;\n",
    "    }\n",
    "    </style>"
   ]
  },
  {
   "cell_type": "markdown",
   "metadata": {},
   "source": [
    "### Changing the theme colors"
   ]
  },
  {
   "cell_type": "code",
   "execution_count": 1,
   "metadata": {},
   "outputs": [],
   "source": [
    "    import IPython, ipywidgets"
   ]
  },
  {
   "cell_type": "code",
   "execution_count": 2,
   "metadata": {},
   "outputs": [],
   "source": [
    "    def layout(*colors, default=\"var(--md-grey-200)\"):\n",
    "        while len(colors) < 5:\n",
    "            colors += None,\n",
    "        return IPython.display.HTML(\n",
    "        \"<style>:root{\\n%s\\n}</style>\" % \"\\n\".join(\n",
    "            F\"\"\"\\t--jp-layout-color{i}: {x or default};\"\"\"\n",
    "            for i, x in enumerate(colors)\n",
    "        ))"
   ]
  },
  {
   "cell_type": "code",
   "execution_count": 3,
   "metadata": {},
   "outputs": [
    {
     "data": {
      "text/html": [
       "<style>.output_html .hll { background-color: #ffffcc }\n",
       ".output_html  { background: #f8f8f8; }\n",
       ".output_html .c { color: #408080; font-style: italic } /* Comment */\n",
       ".output_html .err { border: 1px solid #FF0000 } /* Error */\n",
       ".output_html .k { color: #008000; font-weight: bold } /* Keyword */\n",
       ".output_html .o { color: #666666 } /* Operator */\n",
       ".output_html .ch { color: #408080; font-style: italic } /* Comment.Hashbang */\n",
       ".output_html .cm { color: #408080; font-style: italic } /* Comment.Multiline */\n",
       ".output_html .cp { color: #BC7A00 } /* Comment.Preproc */\n",
       ".output_html .cpf { color: #408080; font-style: italic } /* Comment.PreprocFile */\n",
       ".output_html .c1 { color: #408080; font-style: italic } /* Comment.Single */\n",
       ".output_html .cs { color: #408080; font-style: italic } /* Comment.Special */\n",
       ".output_html .gd { color: #A00000 } /* Generic.Deleted */\n",
       ".output_html .ge { font-style: italic } /* Generic.Emph */\n",
       ".output_html .gr { color: #FF0000 } /* Generic.Error */\n",
       ".output_html .gh { color: #000080; font-weight: bold } /* Generic.Heading */\n",
       ".output_html .gi { color: #00A000 } /* Generic.Inserted */\n",
       ".output_html .go { color: #888888 } /* Generic.Output */\n",
       ".output_html .gp { color: #000080; font-weight: bold } /* Generic.Prompt */\n",
       ".output_html .gs { font-weight: bold } /* Generic.Strong */\n",
       ".output_html .gu { color: #800080; font-weight: bold } /* Generic.Subheading */\n",
       ".output_html .gt { color: #0044DD } /* Generic.Traceback */\n",
       ".output_html .kc { color: #008000; font-weight: bold } /* Keyword.Constant */\n",
       ".output_html .kd { color: #008000; font-weight: bold } /* Keyword.Declaration */\n",
       ".output_html .kn { color: #008000; font-weight: bold } /* Keyword.Namespace */\n",
       ".output_html .kp { color: #008000 } /* Keyword.Pseudo */\n",
       ".output_html .kr { color: #008000; font-weight: bold } /* Keyword.Reserved */\n",
       ".output_html .kt { color: #B00040 } /* Keyword.Type */\n",
       ".output_html .m { color: #666666 } /* Literal.Number */\n",
       ".output_html .s { color: #BA2121 } /* Literal.String */\n",
       ".output_html .na { color: #7D9029 } /* Name.Attribute */\n",
       ".output_html .nb { color: #008000 } /* Name.Builtin */\n",
       ".output_html .nc { color: #0000FF; font-weight: bold } /* Name.Class */\n",
       ".output_html .no { color: #880000 } /* Name.Constant */\n",
       ".output_html .nd { color: #AA22FF } /* Name.Decorator */\n",
       ".output_html .ni { color: #999999; font-weight: bold } /* Name.Entity */\n",
       ".output_html .ne { color: #D2413A; font-weight: bold } /* Name.Exception */\n",
       ".output_html .nf { color: #0000FF } /* Name.Function */\n",
       ".output_html .nl { color: #A0A000 } /* Name.Label */\n",
       ".output_html .nn { color: #0000FF; font-weight: bold } /* Name.Namespace */\n",
       ".output_html .nt { color: #008000; font-weight: bold } /* Name.Tag */\n",
       ".output_html .nv { color: #19177C } /* Name.Variable */\n",
       ".output_html .ow { color: #AA22FF; font-weight: bold } /* Operator.Word */\n",
       ".output_html .w { color: #bbbbbb } /* Text.Whitespace */\n",
       ".output_html .mb { color: #666666 } /* Literal.Number.Bin */\n",
       ".output_html .mf { color: #666666 } /* Literal.Number.Float */\n",
       ".output_html .mh { color: #666666 } /* Literal.Number.Hex */\n",
       ".output_html .mi { color: #666666 } /* Literal.Number.Integer */\n",
       ".output_html .mo { color: #666666 } /* Literal.Number.Oct */\n",
       ".output_html .sa { color: #BA2121 } /* Literal.String.Affix */\n",
       ".output_html .sb { color: #BA2121 } /* Literal.String.Backtick */\n",
       ".output_html .sc { color: #BA2121 } /* Literal.String.Char */\n",
       ".output_html .dl { color: #BA2121 } /* Literal.String.Delimiter */\n",
       ".output_html .sd { color: #BA2121; font-style: italic } /* Literal.String.Doc */\n",
       ".output_html .s2 { color: #BA2121 } /* Literal.String.Double */\n",
       ".output_html .se { color: #BB6622; font-weight: bold } /* Literal.String.Escape */\n",
       ".output_html .sh { color: #BA2121 } /* Literal.String.Heredoc */\n",
       ".output_html .si { color: #BB6688; font-weight: bold } /* Literal.String.Interpol */\n",
       ".output_html .sx { color: #008000 } /* Literal.String.Other */\n",
       ".output_html .sr { color: #BB6688 } /* Literal.String.Regex */\n",
       ".output_html .s1 { color: #BA2121 } /* Literal.String.Single */\n",
       ".output_html .ss { color: #19177C } /* Literal.String.Symbol */\n",
       ".output_html .bp { color: #008000 } /* Name.Builtin.Pseudo */\n",
       ".output_html .fm { color: #0000FF } /* Name.Function.Magic */\n",
       ".output_html .vc { color: #19177C } /* Name.Variable.Class */\n",
       ".output_html .vg { color: #19177C } /* Name.Variable.Global */\n",
       ".output_html .vi { color: #19177C } /* Name.Variable.Instance */\n",
       ".output_html .vm { color: #19177C } /* Name.Variable.Magic */\n",
       ".output_html .il { color: #666666 } /* Literal.Number.Integer.Long */</style><div class=\"highlight\"><pre><span></span><span class=\"p\">&lt;</span><span class=\"nt\">style</span><span class=\"p\">&gt;:</span><span class=\"nd\">root</span><span class=\"p\">{</span>\n",
       "\t<span class=\"err\">--</span><span class=\"n\">jp-layout-color0</span><span class=\"p\">:</span> <span class=\"nf\">var</span><span class=\"p\">(</span><span class=\"o\">--</span><span class=\"n\">md</span><span class=\"o\">-</span><span class=\"kc\">grey</span><span class=\"mi\">-200</span><span class=\"p\">);</span>\n",
       "\t<span class=\"err\">--</span><span class=\"n\">jp-layout-color1</span><span class=\"p\">:</span> <span class=\"nf\">var</span><span class=\"p\">(</span><span class=\"o\">--</span><span class=\"n\">md</span><span class=\"o\">-</span><span class=\"kc\">grey</span><span class=\"mi\">-200</span><span class=\"p\">);</span>\n",
       "\t<span class=\"err\">--</span><span class=\"n\">jp-layout-color2</span><span class=\"p\">:</span> <span class=\"nf\">var</span><span class=\"p\">(</span><span class=\"o\">--</span><span class=\"n\">md</span><span class=\"o\">-</span><span class=\"kc\">grey</span><span class=\"mi\">-200</span><span class=\"p\">);</span>\n",
       "\t<span class=\"err\">--</span><span class=\"n\">jp-layout-color3</span><span class=\"p\">:</span> <span class=\"nf\">var</span><span class=\"p\">(</span><span class=\"o\">--</span><span class=\"n\">md</span><span class=\"o\">-</span><span class=\"kc\">grey</span><span class=\"mi\">-200</span><span class=\"p\">);</span>\n",
       "\t<span class=\"err\">--</span><span class=\"n\">jp-layout-color4</span><span class=\"p\">:</span> <span class=\"nf\">var</span><span class=\"p\">(</span><span class=\"o\">--</span><span class=\"n\">md</span><span class=\"o\">-</span><span class=\"kc\">grey</span><span class=\"mi\">-200</span><span class=\"p\">);</span>\n",
       "<span class=\"p\">}&lt;/</span><span class=\"nt\">style</span><span class=\"p\">&gt;</span>\n",
       "</pre></div>\n"
      ],
      "text/latex": [
       "\\begin{Verbatim}[commandchars=\\\\\\{\\}]\n",
       "\\PY{p}{\\PYZlt{}}\\PY{n+nt}{style}\\PY{p}{\\PYZgt{}}\\PY{p}{:}\\PY{n+nd}{root}\\PY{p}{\\PYZob{}}\n",
       "\t\\PY{err}{\\PYZhy{}}\\PY{err}{\\PYZhy{}}\\PY{n}{jp\\PYZhy{}layout\\PYZhy{}color0}\\PY{p}{:} \\PY{n+nf}{var}\\PY{p}{(}\\PY{o}{\\PYZhy{}}\\PY{o}{\\PYZhy{}}\\PY{n}{md}\\PY{o}{\\PYZhy{}}\\PY{k+kc}{grey}\\PY{l+m+mi}{\\PYZhy{}200}\\PY{p}{)}\\PY{p}{;}\n",
       "\t\\PY{err}{\\PYZhy{}}\\PY{err}{\\PYZhy{}}\\PY{n}{jp\\PYZhy{}layout\\PYZhy{}color1}\\PY{p}{:} \\PY{n+nf}{var}\\PY{p}{(}\\PY{o}{\\PYZhy{}}\\PY{o}{\\PYZhy{}}\\PY{n}{md}\\PY{o}{\\PYZhy{}}\\PY{k+kc}{grey}\\PY{l+m+mi}{\\PYZhy{}200}\\PY{p}{)}\\PY{p}{;}\n",
       "\t\\PY{err}{\\PYZhy{}}\\PY{err}{\\PYZhy{}}\\PY{n}{jp\\PYZhy{}layout\\PYZhy{}color2}\\PY{p}{:} \\PY{n+nf}{var}\\PY{p}{(}\\PY{o}{\\PYZhy{}}\\PY{o}{\\PYZhy{}}\\PY{n}{md}\\PY{o}{\\PYZhy{}}\\PY{k+kc}{grey}\\PY{l+m+mi}{\\PYZhy{}200}\\PY{p}{)}\\PY{p}{;}\n",
       "\t\\PY{err}{\\PYZhy{}}\\PY{err}{\\PYZhy{}}\\PY{n}{jp\\PYZhy{}layout\\PYZhy{}color3}\\PY{p}{:} \\PY{n+nf}{var}\\PY{p}{(}\\PY{o}{\\PYZhy{}}\\PY{o}{\\PYZhy{}}\\PY{n}{md}\\PY{o}{\\PYZhy{}}\\PY{k+kc}{grey}\\PY{l+m+mi}{\\PYZhy{}200}\\PY{p}{)}\\PY{p}{;}\n",
       "\t\\PY{err}{\\PYZhy{}}\\PY{err}{\\PYZhy{}}\\PY{n}{jp\\PYZhy{}layout\\PYZhy{}color4}\\PY{p}{:} \\PY{n+nf}{var}\\PY{p}{(}\\PY{o}{\\PYZhy{}}\\PY{o}{\\PYZhy{}}\\PY{n}{md}\\PY{o}{\\PYZhy{}}\\PY{k+kc}{grey}\\PY{l+m+mi}{\\PYZhy{}200}\\PY{p}{)}\\PY{p}{;}\n",
       "\\PY{p}{\\PYZcb{}}\\PY{p}{\\PYZlt{}}\\PY{p}{/}\\PY{n+nt}{style}\\PY{p}{\\PYZgt{}}\n",
       "\\end{Verbatim}\n"
      ],
      "text/plain": [
       "<style>:root{\n",
       "\t--jp-layout-color0: var(--md-grey-200);\n",
       "\t--jp-layout-color1: var(--md-grey-200);\n",
       "\t--jp-layout-color2: var(--md-grey-200);\n",
       "\t--jp-layout-color3: var(--md-grey-200);\n",
       "\t--jp-layout-color4: var(--md-grey-200);\n",
       "}</style>"
      ]
     },
     "execution_count": 3,
     "metadata": {},
     "output_type": "execute_result"
    }
   ],
   "source": [
    "    IPython.display.Code(layout().data, language='html')"
   ]
  },
  {
   "cell_type": "markdown",
   "metadata": {},
   "source": [
    "    layout('red', 'blue')"
   ]
  },
  {
   "cell_type": "markdown",
   "metadata": {},
   "source": [
    "## Interactive widgets"
   ]
  },
  {
   "cell_type": "markdown",
   "metadata": {},
   "source": [
    "The border css variables."
   ]
  },
  {
   "cell_type": "code",
   "execution_count": 4,
   "metadata": {},
   "outputs": [],
   "source": [
    "    def border_width(width=4):\n",
    "        return IPython.display.HTML(\n",
    "            f\"\"\"<style>:root {\"{\"}\n",
    "          --jp-border-width: \n",
    "          {width}px;\n",
    "          --jp-border-color0: var(--md-grey-1000);\n",
    "          --jp-border-color1: var(--md-grey-800);\n",
    "          --jp-border-color2: var(--md-grey-600);\n",
    "          --jp-border-color3: var(--md-grey-400);\n",
    "          --jp-border-radius: 2px;,\n",
    "        {\"}\"}</style>\"\"\" \n",
    "        )        "
   ]
  },
  {
   "cell_type": "markdown",
   "metadata": {},
   "source": [
    "    style = IPython.display.display(\n",
    "        border_width(), display_id=True\n",
    "    )"
   ]
  },
  {
   "cell_type": "code",
   "execution_count": 6,
   "metadata": {},
   "outputs": [
    {
     "data": {
      "application/vnd.jupyter.widget-view+json": {
       "model_id": "46485102c5294d62b096b6be9bbaa177",
       "version_major": 2,
       "version_minor": 0
      },
      "text/plain": [
       "interactive(children=(FloatSlider(value=4.0, description='width', step=0.3), Output()), _dom_classes=('widget-…"
      ]
     },
     "metadata": {},
     "output_type": "display_data"
    }
   ],
   "source": [
    "    @ipywidgets.interact\n",
    "    def _(width:(0,100,.3)=4):\n",
    "        style.update(border_width(width))"
   ]
  }
 ],
 "metadata": {
  "kernelspec": {
   "display_name": "Python 3",
   "language": "python",
   "name": "python3"
  },
  "language_info": {
   "codemirror_mode": {
    "name": "ipython",
    "version": 3
   },
   "file_extension": ".py",
   "mimetype": "text/x-python",
   "name": "python",
   "nbconvert_exporter": "python",
   "pygments_lexer": "ipython3",
   "version": "3.7.7"
  }
 },
 "nbformat": 4,
 "nbformat_minor": 4
}
