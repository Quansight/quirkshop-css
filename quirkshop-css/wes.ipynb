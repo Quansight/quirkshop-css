{
 "cells": [
  {
   "cell_type": "markdown",
   "metadata": {},
   "source": [
    "# How work [Wes Anderson](https://www.imdb.com/name/nm0027572/) interactive compute?"
   ]
  },
  {
   "cell_type": "markdown",
   "metadata": {},
   "source": [
    "## Turn a Wes Anderson stylesheet into data"
   ]
  },
  {
   "cell_type": "code",
   "execution_count": 2,
   "metadata": {},
   "outputs": [],
   "source": [
    "    import pandas, pathlib, IPython, random\n",
    "\n",
    "    s = pandas.Series(pathlib.Path(\"data/wesanderson.css\").read_text().splitlines())`\n",
    "    df = pandas.concat([s.str.lstrip('-').str.rstrip(';').str.rpartition(':')[[0, 2]].rename(columns={0:'name', 2:'color'}), s.rename('var')],axis=1)\n"
   ]
  },
  {
   "cell_type": "code",
   "execution_count": 113,
   "metadata": {},
   "outputs": [],
   "source": [
    "    def layout(*colors, default=\"var(--md-grey-200)\"):\n",
    "        while len(colors) < 5:\n",
    "            colors += None,\n",
    "        colors = list(colors)\n",
    "        random.shuffle(colors)\n",
    "        return IPython.display.HTML(\n",
    "        \"<style>:root{\\n%s\\n}</style>\" % \"\\n\".join(\n",
    "            F\"\"\"\\t--jp-layout-color{i}: {x or default};\"\"\"\n",
    "            for i, x in enumerate(colors)\n",
    "        ))"
   ]
  },
  {
   "cell_type": "markdown",
   "metadata": {},
   "source": [
    "## What are y'alls favorite Wes Anderson Files"
   ]
  },
  {
   "cell_type": "code",
   "execution_count": 114,
   "metadata": {},
   "outputs": [],
   "source": [
    "movies = list(map('-'.join, map(str.split, \"\"\"the \troyal \ttenenbaums\n",
    "grand \tbudapest \thotel\n",
    "the \tlife \taquatic \twith \tsteve \tzissou \n",
    "moonrise \tkingdom \t\n",
    "fantastic \tmr \tfox\n",
    "the \tdarjeeling \tlimited\n",
    "hotel \tchevalier\n",
    "rushmore\"\"\".splitlines())))"
   ]
  },
  {
   "cell_type": "code",
   "execution_count": 155,
   "metadata": {},
   "outputs": [
    {
     "data": {
      "text/html": [
       "<style>:root{\n",
       "\t--jp-layout-color0:  #F24D29;\n",
       "\t--jp-layout-color1:  #1DACE8;\n",
       "\t--jp-layout-color2:  #E5C4A1;\n",
       "\t--jp-layout-color3:  #C4CFD0;\n",
       "\t--jp-layout-color4:  #1C366B;\n",
       "}</style>"
      ],
      "text/plain": [
       "<IPython.core.display.HTML object>"
      ]
     },
     "execution_count": 155,
     "metadata": {},
     "output_type": "execute_result"
    }
   ],
   "source": [
    "    layout(*df[df.name.str.startswith(movies[2])].color)"
   ]
  },
  {
   "cell_type": "code",
   "execution_count": null,
   "metadata": {},
   "outputs": [],
   "source": [
    "\n"
   ]
  }
 ],
 "metadata": {
  "kernelspec": {
   "display_name": "Python 3",
   "language": "python",
   "name": "python3"
  },
  "language_info": {
   "codemirror_mode": {
    "name": "ipython",
    "version": 3
   },
   "file_extension": ".py",
   "mimetype": "text/x-python",
   "name": "python",
   "nbconvert_exporter": "python",
   "pygments_lexer": "ipython3",
   "version": "3.7.7"
  }
 },
 "nbformat": 4,
 "nbformat_minor": 4
}
