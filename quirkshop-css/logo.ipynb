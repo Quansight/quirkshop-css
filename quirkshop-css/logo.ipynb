{
 "cells": [
  {
   "cell_type": "markdown",
   "metadata": {},
   "source": [
    "# Changing the jupyter icon in lab\n",
    "\n",
    "We can modify the branding of JupyterLab to fit our style."
   ]
  },
  {
   "cell_type": "code",
   "execution_count": 94,
   "metadata": {
    "jupyter": {
     "source_hidden": true
    }
   },
   "outputs": [],
   "source": [
    "    import requests, IPython, requests_cache\n",
    "    requests_cache.install_cache('xxx')"
   ]
  },
  {
   "cell_type": "markdown",
   "metadata": {},
   "source": [
    "## What query can access?\n",
    "\n",
    "1. Should we use an _id_ or _class_ selector?\n",
    "2. What kind of image is the current logo?\n",
    "3. What are other image formats?\n",
    "\n",
    "<details><summary>hint</summary>\n",
    "<a href=\"https://gist.github.com/bollwyvl/8213489b5cacbcf20031c5351f08d7cb#file-gt-lab-theme-json-L44\">https://gist.github.com/bollwyvl/8213489b5cacbcf20031c5351f08d7cb#file-gt-lab-theme-json-L44</a></details>"
   ]
  },
  {
   "cell_type": "markdown",
   "metadata": {},
   "source": [
    "## Logos from Github Gravatar\n",
    "\n",
    "Use the github gravatar service to provide images."
   ]
  },
  {
   "cell_type": "code",
   "execution_count": 95,
   "metadata": {},
   "outputs": [],
   "source": [
    "    def avatar(user=\"Quansight\"):\n",
    "        \"\"\"Get a user or orgs avatar from github.\"\"\"\n",
    "        return requests.get(F'https://api.github.com/users/{user}').json()['avatar_url']"
   ]
  },
  {
   "cell_type": "code",
   "execution_count": 96,
   "metadata": {},
   "outputs": [
    {
     "data": {
      "text/html": [
       "<img src=\"https://avatars0.githubusercontent.com/u/34879953?v=4\"/>"
      ],
      "text/plain": [
       "<IPython.core.display.Image object>"
      ]
     },
     "execution_count": 96,
     "metadata": {},
     "output_type": "execute_result"
    }
   ],
   "source": [
    "    IPython.display.Image(url=avatar())"
   ]
  },
  {
   "cell_type": "markdown",
   "metadata": {},
   "source": [
    "### Hide the existing logo"
   ]
  },
  {
   "cell_type": "code",
   "execution_count": 97,
   "metadata": {},
   "outputs": [
    {
     "data": {
      "text/html": [
       "<style>\n",
       "#jp-MainLogo svg{\n",
       "    opacity: 0;\n",
       "}\n"
      ],
      "text/plain": [
       "<IPython.core.display.HTML object>"
      ]
     },
     "metadata": {},
     "output_type": "display_data"
    }
   ],
   "source": [
    "    %%html\n",
    "    <style>\n",
    "    #jp-MainLogo svg{\n",
    "        opacity: 0;\n",
    "    }"
   ]
  },
  {
   "cell_type": "markdown",
   "metadata": {},
   "source": [
    "### Replace the current logo"
   ]
  },
  {
   "cell_type": "code",
   "execution_count": 98,
   "metadata": {},
   "outputs": [
    {
     "data": {
      "text/html": [
       "<style>#jp-MainLogo {\n",
       "    background-image: url(\"https://avatars0.githubusercontent.com/u/34879953?v=4\"); \n",
       "    background-size: cover;\n",
       "    }</style>"
      ],
      "text/plain": [
       "<IPython.core.display.HTML object>"
      ]
     },
     "execution_count": 98,
     "metadata": {},
     "output_type": "execute_result"
    }
   ],
   "source": [
    "    (    IPython.display.HTML(\n",
    "        \"\"\"<style>#jp-MainLogo {\n",
    "        background-image: url(\"%s\"); \n",
    "        background-size: cover;\n",
    "        }</style>\"\"\"%\n",
    "        avatar()\n",
    "    ))"
   ]
  }
 ],
 "metadata": {
  "kernelspec": {
   "display_name": "Python 3",
   "language": "python",
   "name": "python3"
  },
  "language_info": {
   "codemirror_mode": {
    "name": "ipython",
    "version": 3
   },
   "file_extension": ".py",
   "mimetype": "text/x-python",
   "name": "python",
   "nbconvert_exporter": "python",
   "pygments_lexer": "ipython3",
   "version": "3.7.7"
  }
 },
 "nbformat": 4,
 "nbformat_minor": 4
}
