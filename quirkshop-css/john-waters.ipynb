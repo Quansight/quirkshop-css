{
 "cells": [
  {
   "cell_type": "markdown",
   "metadata": {},
   "source": [
    "# design and style\n",
    "\n",
    "* design in open source is an undervalued resource in software. we're just now noticing it become important.\n",
    "* polish in the design of interfaces, apis, clis, docs, and language around open source brings\n",
    "value from the \n",
    "* it is great to see [quansight labs]() putting resources toward better design and usability of key scientific computing tools."
   ]
  },
  {
   "cell_type": "markdown",
   "metadata": {},
   "source": [
    "[![](https://scontent-atl3-1.cdninstagram.com/v/t51.2885-15/e35/117375352_163121508712268_5742818297838603761_n.jpg?_nc_ht=scontent-atl3-1.cdninstagram.com&_nc_cat=108&_nc_ohc=dEWV__Km4wIAX8a-vyR&oh=4e2f988f9ef71bab747a09770c011196&oe=5F5F1505)](https://www.instagram.com/p/CDrij-XlVCI/?igshid=jcsqr0vka7ey)\n",
    "\n",
    "[John Waters IMDB](https://www.imdb.com/name/nm0000691/)"
   ]
  },
  {
   "cell_type": "markdown",
   "metadata": {},
   "source": [
    "## The software is the outfit\n",
    "\n",
    "> What are things we can do to make ourselves stand out with style in open source?"
   ]
  },
  {
   "cell_type": "code",
   "execution_count": null,
   "metadata": {},
   "outputs": [],
   "source": []
  }
 ],
 "metadata": {
  "kernelspec": {
   "display_name": "Python 3",
   "language": "python",
   "name": "python3"
  },
  "language_info": {
   "codemirror_mode": {
    "name": "ipython",
    "version": 3
   },
   "file_extension": ".py",
   "mimetype": "text/x-python",
   "name": "python",
   "nbconvert_exporter": "python",
   "pygments_lexer": "ipython3",
   "version": "3.7.7"
  }
 },
 "nbformat": 4,
 "nbformat_minor": 4
}
